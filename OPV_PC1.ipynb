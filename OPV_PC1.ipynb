{
 "cells": [
  {
   "cell_type": "code",
   "execution_count": 7,
   "id": "76bd9661-cd12-4f51-ba46-d6bc46af651c",
   "metadata": {},
   "outputs": [],
   "source": [
    "#インポート\n",
    "import numpy as np\n",
    "import pandas as pd\n",
    "from rdkit import Chem\n",
    "from rdkit.Chem import AllChem, PandasTools\n",
    "import matplotlib.pyplot as plt\n",
    "import datetime"
   ]
  },
  {
   "cell_type": "code",
   "execution_count": 83,
   "id": "219dc813-a96d-4489-ac79-1bbce6d5a861",
   "metadata": {},
   "outputs": [
    {
     "data": {
      "text/plain": [
       "<Figure size 400x400 with 0 Axes>"
      ]
     },
     "execution_count": 83,
     "metadata": {},
     "output_type": "execute_result"
    },
    {
     "data": {
      "text/plain": [
       "<Figure size 400x400 with 0 Axes>"
      ]
     },
     "metadata": {},
     "output_type": "display_data"
    }
   ],
   "source": [
    "import matplotlib.font_manager\n",
    "matplotlib.font_manager.fontManager.addfont(\"/home/materialsinformatics/anaconda3/envs/py39torch/lib/python3.9/site-packages/matplotlib/mpl-data/fonts/ttf/arial.ttf\")\n",
    "plt.rcParams['figure.subplot.bottom'] = 0.2 # 見切れ防止\n",
    "plt.rcParams['figure.subplot.left'] = 0.2 # 見切れ防止\n",
    "plt.rcParams['font.family'] ='Arial'#使用するフォント\n",
    "plt.rcParams['xtick.direction'] = 'in'\n",
    "plt.rcParams['ytick.direction'] = 'in'\n",
    "plt.rcParams['font.size'] = 18 #フォントの大きさ\n",
    "plt.figure(figsize=(4,4))"
   ]
  },
  {
   "cell_type": "code",
   "execution_count": 3,
   "id": "ffdd1a63-0d80-49d8-8347-0710a2bc93fb",
   "metadata": {},
   "outputs": [],
   "source": [
    "df = pd.read_csv(\"data/OPV_database_1295.csv\")"
   ]
  },
  {
   "cell_type": "code",
   "execution_count": 4,
   "id": "b55b37d4-fbea-483f-b665-d7f35a59abdd",
   "metadata": {},
   "outputs": [],
   "source": [
    "import numpy as np\n",
    "import pandas as pd\n",
    "from rdkit import rdBase, Chem\n",
    "from rdkit.Chem import AllChem, DataStructs, Descriptors, Draw,  ReducedGraphs, MACCSkeys\n",
    "from rdkit.Avalon.pyAvalonTools import GetAvalonFP\n",
    "from rdkit.ML.Descriptors import MoleculeDescriptors\n",
    "from rdkit.Chem.EState import Fingerprinter\n",
    "# from mordred import Calculator, descriptors\n",
    "\n",
    "def smiles_to_avalon(smiles):\n",
    "    molecule = Chem.MolFromSmiles(smiles)\n",
    "    fingerprint = pyAvalonTools.GetAvalonFP(molecule)\n",
    "    return fingerprint\n",
    "\n",
    "from rdkit.Chem import MACCSkeys\n",
    "\n",
    "def smiles_to_maccskeys(smiles):\n",
    "    molecule = Chem.MolFromSmiles(smiles)\n",
    "    maccs_keys = MACCSkeys.GenMACCSKeys(molecule)\n",
    "    return maccs_keys.ToBitString()\n",
    "\n",
    "from rdkit.Chem import AllChem,Descriptors\n",
    "\n",
    "def smiles_to_ecfp(smiles, radius=2, nbits=1024):\n",
    "    molecule = Chem.MolFromSmiles(smiles)\n",
    "    ecfp = AllChem.GetMorganFingerprintAsBitVect(molecule, radius, nBits=nbits)\n",
    "    return ecfp.ToBitString()\n",
    "\n",
    "def smiles_to_estate(smiles):\n",
    "    molecule = Chem.MolFromSmiles(smiles)\n",
    "    estate = Descriptors.EStateIndices(molecule)\n",
    "    return estate"
   ]
  },
  {
   "cell_type": "code",
   "execution_count": 5,
   "id": "fac2f46e-402c-4a2a-b5e7-d724031b9c20",
   "metadata": {},
   "outputs": [],
   "source": [
    "def Mol2Vec(smiles, fptype=\"ECFP\", radius=2, bits = 1024):\n",
    "    vector = np.zeros((1,))\n",
    "    mol = Chem.MolFromSmiles(smiles)\n",
    "    bitI_morgan = {}\n",
    "    if fptype == \"ECFP\":\n",
    "        DataStructs.ConvertToNumpyArray(AllChem.GetMorganFingerprintAsBitVect(mol, radius, bits), vector)\n",
    "    elif fptype == \"Avalon\":\n",
    "        DataStructs.ConvertToNumpyArray(GetAvalonFP(mol), vector)\n",
    "    elif fptype == \"MACCSKeys\":\n",
    "        DataStructs.ConvertToNumpyArray(AllChem.GetMACCSKeysFingerprint(mol), vector)\n",
    "    elif fptype == \"ErG\":\n",
    "        vector = ReducedGraphs.GetErGFingerprint(mol)\n",
    "    elif fptype == \"Estate\":\n",
    "        vector = Fingerprinter.FingerprintMol(mol)[0]\n",
    "    # elif fptype == \"RDKit\":\n",
    "    #     vector = list(descriptor_calculation.CalcDescriptors(mol))\n",
    "    #     for index, value in enumerate(vector):\n",
    "    #         if index == 40: # IPC descriptor \n",
    "    #             vector[index] = Descriptors.Ipc(mol, avg=True)\n",
    "    #     vector = np.array(vector)\n",
    "    else:\n",
    "        raise TypeError()\n",
    "    return vector"
   ]
  },
  {
   "cell_type": "code",
   "execution_count": 14,
   "id": "693414ad-3498-4a44-ac72-20aa713cb16e",
   "metadata": {},
   "outputs": [
    {
     "name": "stdout",
     "output_type": "stream",
     "text": [
      "0 0.03963422775268555\n",
      "100 35.01548361778259\n",
      "200 37.65438532829285\n",
      "300 39.79473829269409\n",
      "400 42.538994789123535\n",
      "500 45.516457319259644\n",
      "600 47.92937684059143\n",
      "700 50.81099343299866\n",
      "800 53.78161549568176\n",
      "900 56.24646210670471\n",
      "1000 665.6299073696136\n",
      "1100 668.3694589138031\n",
      "1200 671.7344422340393\n"
     ]
    }
   ],
   "source": [
    "# i = 100\n",
    "n_ErG = []\n",
    "p_ErG = []\n",
    "n_Estate = []\n",
    "p_Estate = []\n",
    "n_MACCSKeys = []\n",
    "p_MACCSKeys = []\n",
    "n_ECFP = []\n",
    "p_ECFP = []\n",
    "\n",
    "t0 = time.time()\n",
    "for i in range(len(df)):   \n",
    "    n_ErG.append(Mol2Vec(smiles = df[\"n(SMILES)\"][i], fptype=\"ErG\"))\n",
    "    p_ErG.append(Mol2Vec(smiles = df[\"p(SMILES)\"][i], fptype=\"ErG\"))\n",
    "    n_Estate.append(Mol2Vec(smiles = df[\"n(SMILES)\"][i], fptype=\"Estate\"))\n",
    "    p_Estate.append(Mol2Vec(smiles = df[\"p(SMILES)\"][i], fptype=\"Estate\"))\n",
    "    n_MACCSKeys.append(Mol2Vec(smiles = df[\"n(SMILES)\"][i], fptype=\"MACCSKeys\"))\n",
    "    p_MACCSKeys.append(Mol2Vec(smiles = df[\"p(SMILES)\"][i], fptype=\"MACCSKeys\"))\n",
    "    n_ECFP.append(Mol2Vec(smiles = df[\"n(SMILES)\"][i], fptype=\"ECFP\"))\n",
    "    p_ECFP.append(Mol2Vec(smiles = df[\"p(SMILES)\"][i], fptype=\"ECFP\"))\n",
    "    if i % 100 == 0:\n",
    "        t = time.time()\n",
    "        print(i, t-t0)"
   ]
  },
  {
   "cell_type": "code",
   "execution_count": null,
   "id": "4da52c7a-e2e5-45ad-9e96-04db01d1fc7b",
   "metadata": {},
   "outputs": [],
   "source": []
  },
  {
   "cell_type": "code",
   "execution_count": 27,
   "id": "16499b6f-0871-4271-bdff-0c6ddcfa9d13",
   "metadata": {},
   "outputs": [],
   "source": [
    "from sklearn.model_selection import train_test_split\n",
    "from sklearn.ensemble import RandomForestRegressor, GradientBoostingRegressor\n",
    "from sklearn.metrics import mean_squared_error, mean_absolute_error, r2_score\n",
    "from sklearn.neural_network import MLPRegressor"
   ]
  },
  {
   "cell_type": "code",
   "execution_count": 15,
   "id": "cb398d17-6743-4d9e-ad3f-b3528c0b0129",
   "metadata": {},
   "outputs": [],
   "source": [
    "X_ErG = np.concatenate([n_ErG, p_ErG], axis = 1)\n",
    "X_ECFP = np.concatenate([n_ECFP, p_ECFP], axis = 1)\n",
    "X_Estate = np.concatenate([n_Estate, p_Estate], axis = 1)\n",
    "X_MACCSKeys = np.concatenate([n_MACCSKeys, p_MACCSKeys], axis = 1)"
   ]
  },
  {
   "cell_type": "code",
   "execution_count": 36,
   "id": "2a2ade89-eadf-4e22-a05b-aa05df5a66ec",
   "metadata": {},
   "outputs": [],
   "source": [
    "pd.DataFrame(X_ErG).to_csv(\"X_ErG.csv\", index = False)\n",
    "pd.DataFrame(X_ECFP).to_csv(\"X_ECFP.csv\", index = False)\n",
    "pd.DataFrame(X_Estate).to_csv(\"X_Estate.csv\", index = False)\n",
    "pd.DataFrame(X_MACCSKeys).to_csv(\"X_MACCSKeys.csv\", index = False)"
   ]
  },
  {
   "cell_type": "code",
   "execution_count": 37,
   "id": "1577a49a-611a-4d1e-b38b-f1736c51b7d8",
   "metadata": {
    "tags": []
   },
   "outputs": [],
   "source": [
    "y = df[\"PCE_ave(%)\"]"
   ]
  },
  {
   "cell_type": "code",
   "execution_count": 38,
   "id": "a4410eb4-9e00-4bf0-b3ce-58ed852315e1",
   "metadata": {},
   "outputs": [
    {
     "name": "stdout",
     "output_type": "stream",
     "text": [
      "RF ErG\n",
      "R2_train 0.8506941376487915\n",
      "R2_test 0.6085849553524434\n",
      "RF ECFP\n",
      "R2_train 0.9391490951803427\n",
      "R2_test 0.6460842177346606\n",
      "RF Estate\n",
      "R2_train 0.9231557143821958\n",
      "R2_test 0.6855897755059253\n",
      "RF MACCSKeys\n",
      "R2_train 0.8261055552043035\n",
      "R2_test 0.5729231677300817\n"
     ]
    }
   ],
   "source": [
    "for disc in [\"ErG\", \"ECFP\", \"Estate\", \"MACCSKeys\"]:\n",
    "    print(\"RF\", disc)\n",
    "    X = pd.read_csv(f\"X_{disc}.csv\")\n",
    "    X_train,X_test,y_train,y_test = train_test_split(X, y, test_size = 0.2, random_state = 0)\n",
    "    rf = RandomForestRegressor(n_estimators = 500)\n",
    "    rf.fit(X_train, y_train)\n",
    "    y_train_pred = rf.predict(X_train)\n",
    "    y_test_pred = rf.predict(X_test)\n",
    "    pd.DataFrame(y_train_pred).to_csv(f\"y_train_pred_RF_{disc}.csv\", index = False)\n",
    "    pd.DataFrame(y_test_pred).to_csv(f\"y_test_pred_RF_{disc}.csv\", index = False)\n",
    "    print(\"R2_train\",r2_score(y_train, y_train_pred))\n",
    "    print(\"R2_test\", r2_score(y_test, y_test_pred))"
   ]
  },
  {
   "cell_type": "code",
   "execution_count": 43,
   "id": "3459ca91-bf1a-474f-bba1-f926c1841541",
   "metadata": {},
   "outputs": [
    {
     "name": "stdout",
     "output_type": "stream",
     "text": [
      "GB ErG\n",
      "R2_train 0.8571469209561475\n",
      "R2_test 0.588519007728465\n",
      "GB ECFP\n",
      "R2_train 0.8974919730672097\n",
      "R2_test 0.6135868777546143\n",
      "GB Estate\n",
      "R2_train 0.8603864325917016\n",
      "R2_test 0.6239042276401536\n",
      "GB MACCSKeys\n",
      "R2_train 0.7851253425826168\n",
      "R2_test 0.5266766807155587\n"
     ]
    }
   ],
   "source": [
    "for disc in [\"ErG\", \"ECFP\", \"Estate\", \"MACCSKeys\"]:\n",
    "    print(\"GB\", disc)\n",
    "    X = pd.read_csv(f\"X_{disc}.csv\")\n",
    "    X_train,X_test,y_train,y_test = train_test_split(X, y, test_size = 0.2, random_state = 0)\n",
    "    gb = GradientBoostingRegressor(n_estimators = 500)\n",
    "    gb.fit(X_train, y_train)\n",
    "    y_train_pred = gb.predict(X_train)\n",
    "    y_test_pred = gb.predict(X_test)\n",
    "    pd.DataFrame(y_train_pred).to_csv(f\"y_train_pred_GB_{disc}.csv\", index = False)\n",
    "    pd.DataFrame(y_test_pred).to_csv(f\"y_test_pred_GB_{disc}.csv\", index = False)\n",
    "    print(\"R2_train\",r2_score(y_train, y_train_pred))\n",
    "    print(\"R2_test\", r2_score(y_test, y_test_pred))"
   ]
  },
  {
   "cell_type": "code",
   "execution_count": 42,
   "id": "410c9865-edf2-4e33-8b84-3dc848607b6b",
   "metadata": {},
   "outputs": [
    {
     "name": "stdout",
     "output_type": "stream",
     "text": [
      "NN ErG\n",
      "R2_train 0.5778117061890415\n",
      "R2_test 0.37740582458078853\n",
      "NN ECFP\n",
      "R2_train 0.9507429846441106\n",
      "R2_test 0.5114575245093285\n",
      "NN Estate\n",
      "R2_train 0.7498464199637533\n",
      "R2_test 0.5092635781934913\n",
      "NN MACCSKeys\n",
      "R2_train 0.7705084827718341\n",
      "R2_test 0.5223710512731319\n"
     ]
    }
   ],
   "source": [
    "for disc in [\"ErG\", \"ECFP\", \"Estate\", \"MACCSKeys\"]:\n",
    "    print(\"NN\", disc)\n",
    "    X = pd.read_csv(f\"X_{disc}.csv\")\n",
    "    X_train,X_test,y_train,y_test = train_test_split(X, y, test_size = 0.2, random_state = 0)\n",
    "    nn = MLPRegressor(max_iter=500)\n",
    "    nn.fit(X_train, y_train)\n",
    "    y_train_pred = nn.predict(X_train)\n",
    "    y_test_pred = nn.predict(X_test)\n",
    "    pd.DataFrame(y_train_pred).to_csv(f\"y_train_pred_NN_{disc}.csv\", index = False)\n",
    "    pd.DataFrame(y_test_pred).to_csv(f\"y_test_pred_NN_{disc}.csv\", index = False)\n",
    "    print(\"R2_train\",r2_score(y_train, y_train_pred))\n",
    "    print(\"R2_test\", r2_score(y_test, y_test_pred))"
   ]
  },
  {
   "cell_type": "code",
   "execution_count": null,
   "id": "1a5409be-47ef-46fb-8865-e8a7d8063231",
   "metadata": {},
   "outputs": [],
   "source": []
  },
  {
   "cell_type": "code",
   "execution_count": 75,
   "id": "26ee4c8b-3ef8-441c-aaf3-5bda4e2519ca",
   "metadata": {
    "tags": []
   },
   "outputs": [
    {
     "data": {
      "text/html": [
       "<div>\n",
       "<style scoped>\n",
       "    .dataframe tbody tr th:only-of-type {\n",
       "        vertical-align: middle;\n",
       "    }\n",
       "\n",
       "    .dataframe tbody tr th {\n",
       "        vertical-align: top;\n",
       "    }\n",
       "\n",
       "    .dataframe thead th {\n",
       "        text-align: right;\n",
       "    }\n",
       "</style>\n",
       "<table border=\"1\" class=\"dataframe\">\n",
       "  <thead>\n",
       "    <tr style=\"text-align: right;\">\n",
       "      <th></th>\n",
       "      <th>Predicted PCE (%)</th>\n",
       "      <th>Experimental PCE (%)</th>\n",
       "    </tr>\n",
       "  </thead>\n",
       "  <tbody>\n",
       "    <tr>\n",
       "      <th>0</th>\n",
       "      <td>8.778755</td>\n",
       "      <td>6.08</td>\n",
       "    </tr>\n",
       "    <tr>\n",
       "      <th>1</th>\n",
       "      <td>9.188287</td>\n",
       "      <td>10.58</td>\n",
       "    </tr>\n",
       "    <tr>\n",
       "      <th>2</th>\n",
       "      <td>11.151454</td>\n",
       "      <td>10.01</td>\n",
       "    </tr>\n",
       "    <tr>\n",
       "      <th>3</th>\n",
       "      <td>7.029672</td>\n",
       "      <td>0.01</td>\n",
       "    </tr>\n",
       "    <tr>\n",
       "      <th>4</th>\n",
       "      <td>7.025138</td>\n",
       "      <td>5.58</td>\n",
       "    </tr>\n",
       "    <tr>\n",
       "      <th>...</th>\n",
       "      <td>...</td>\n",
       "      <td>...</td>\n",
       "    </tr>\n",
       "    <tr>\n",
       "      <th>1031</th>\n",
       "      <td>10.279816</td>\n",
       "      <td>10.95</td>\n",
       "    </tr>\n",
       "    <tr>\n",
       "      <th>1032</th>\n",
       "      <td>10.263070</td>\n",
       "      <td>11.45</td>\n",
       "    </tr>\n",
       "    <tr>\n",
       "      <th>1033</th>\n",
       "      <td>12.893000</td>\n",
       "      <td>0.86</td>\n",
       "    </tr>\n",
       "    <tr>\n",
       "      <th>1034</th>\n",
       "      <td>3.980956</td>\n",
       "      <td>6.56</td>\n",
       "    </tr>\n",
       "    <tr>\n",
       "      <th>1035</th>\n",
       "      <td>9.887446</td>\n",
       "      <td>8.78</td>\n",
       "    </tr>\n",
       "  </tbody>\n",
       "</table>\n",
       "<p>1036 rows × 2 columns</p>\n",
       "</div>"
      ],
      "text/plain": [
       "      Predicted PCE (%)  Experimental PCE (%)\n",
       "0              8.778755                  6.08\n",
       "1              9.188287                 10.58\n",
       "2             11.151454                 10.01\n",
       "3              7.029672                  0.01\n",
       "4              7.025138                  5.58\n",
       "...                 ...                   ...\n",
       "1031          10.279816                 10.95\n",
       "1032          10.263070                 11.45\n",
       "1033          12.893000                  0.86\n",
       "1034           3.980956                  6.56\n",
       "1035           9.887446                  8.78\n",
       "\n",
       "[1036 rows x 2 columns]"
      ]
     },
     "execution_count": 75,
     "metadata": {},
     "output_type": "execute_result"
    }
   ],
   "source": [
    "y_train_pred_array = np.array(pd.read_csv(\"y_train_pred_NN_ErG.csv\"))\n",
    "y_train_real_array = np.array(y_train).reshape(len(y_train),1)\n",
    "pd.DataFrame(np.concatenate([y_train_pred_array,y_train_real_array],axis=1),\n",
    "             columns = [\"Predicted PCE (%)\", \"Experimental PCE (%)\"])"
   ]
  },
  {
   "cell_type": "code",
   "execution_count": 85,
   "id": "ffe433ea-2e17-4edf-bfca-7258553547ad",
   "metadata": {},
   "outputs": [
    {
     "data": {
      "text/plain": [
       "[<matplotlib.lines.Line2D at 0x7f21bdf2e8b0>]"
      ]
     },
     "execution_count": 85,
     "metadata": {},
     "output_type": "execute_result"
    },
    {
     "data": {
      "image/png": "[encoded data removed]",
      "text/plain": [
       "<Figure size 640x480 with 1 Axes>"
      ]
     },
     "metadata": {},
     "output_type": "display_data"
    }
   ],
   "source": [
    "plt.rcParams['font.family'] ='Arial'#使用するフォント\n",
    "plt.rcParams['xtick.direction'] = 'in'\n",
    "plt.rcParams['ytick.direction'] = 'in'\n",
    "y_test_pred_array = np.array(pd.read_csv(\"y_test_pred_NN_ErG.csv\"))\n",
    "y_test_real_array = np.array(y_test).reshape(len(y_test),1)\n",
    "df = pd.DataFrame(np.concatenate([y_test_pred_array,y_test_real_array],axis=1),\n",
    "             columns = [\"Predicted PCE (%)\", \"Experimental PCE (%)\"])\n",
    "plt.scatter(y_test_real_array,y_test_pred_array)\n",
    "plt.xlabel(\"Experimental PCE (%)\")\n",
    "plt.ylabel(\"Predicted PCE (%)\")\n",
    "plt.plot([y_test_real_array.min(), y_test_real_array.max()], [y_test_real_array.min(), y_test_real_array.max()], c=\"black\")"
   ]
  },
  {
   "cell_type": "code",
   "execution_count": 104,
   "id": "4f18aa80-4ce8-4fbc-a8d1-f285e6bf02ea",
   "metadata": {},
   "outputs": [
    {
     "data": {
      "text/plain": [
       "<Figure size 640x480 with 0 Axes>"
      ]
     },
     "metadata": {},
     "output_type": "display_data"
    }
   ],
   "source": [
    "plt.rcParams['font.family'] ='Arial'#使用するフォント\n",
    "plt.rcParams['xtick.direction'] = 'in'\n",
    "plt.rcParams['ytick.direction'] = 'in'\n",
    "for model in [\"NN\", \"RF\", \"GB\"]:\n",
    "    for disc in [\"ErG\", \"ECFP\", \"Estate\", \"MACCSKeys\"]:\n",
    "        y_test_pred_array = np.array(pd.read_csv(f\"y_test_pred_{model}_{disc}.csv\"))\n",
    "        y_test_real_array = np.array(y_test).reshape(len(y_test),1)\n",
    "        plt.scatter(y_test_real_array,y_test_pred_array, c= \"orange\")\n",
    "        plt.xlabel(\"Experimental PCE (%)\")\n",
    "        plt.ylabel(\"Predicted PCE (%)\")\n",
    "        plt.plot([y_test_real_array.min(), y_test_real_array.max()],\n",
    "                 [y_test_real_array.min(), y_test_real_array.max()], c=\"black\")\n",
    "        plt.savefig(f\"y_test_pred_{model}_{disc}.png\", dpi=300)\n",
    "        plt.clf()"
   ]
  },
  {
   "cell_type": "code",
   "execution_count": null,
   "id": "546ae564-5ecf-4633-8c44-0edc0133130a",
   "metadata": {},
   "outputs": [],
   "source": []
  },
  {
   "cell_type": "code",
   "execution_count": null,
   "id": "c1f62bf6-722a-494a-98ab-ef1cdc50d835",
   "metadata": {},
   "outputs": [],
   "source": [
    "def jointplot(use_X, model, split, prop, fill, rs):\n",
    "    train = pd.read_csv(f\"y_train_pred_{model}_{disc}.csv\")\n",
    "    test = pd.read_csv(f\"y_test_pred_{model}_{disc}.csv\")\n",
    "    train[\" \"] = \"train\"\n",
    "    train.rename(columns = {'y_train_real': 'Experimental PCE (%)','y_train_pred': 'Predicted PCE (%)'},\n",
    "                inplace = True)\n",
    "    test[\" \"] = \"test\"\n",
    "    test.rename(columns = {'y_test_real': 'Experimental PCE (%)','y_test_pred': 'Predicted PCE (%)'},\n",
    "                inplace = True)\n",
    "    stack = pd.concat([train,test]).reset_index()\n",
    "    plt.rcParams['font.family'] ='Arial'#使用するフォント\n",
    "    plt.rcParams['xtick.direction'] = 'in'\n",
    "    plt.rcParams['ytick.direction'] = 'in'\n",
    "    plt.rcParams['font.size'] = 18 #フォントの大きさ\n",
    "    fig = sns.jointplot(x=stack[\"Experimental PCE (%)\"], y=stack[\"Predicted PCE (%)\"], hue=stack[\" \"],joint_kws={'alpha': 0.3},edgecolor='white')\n",
    "    handles, labels = fig.ax_joint.get_legend_handles_labels()\n",
    "    fig.ax_joint.legend(handles, labels)\n",
    "    plt.plot([stack[\"Experimental PCE (%)\"].min(), stack[\"Experimental PCE (%)\"].max()], [stack[\"Experimental PCE (%)\"].min(), stack[\"Experimental PCE (%)\"].max()], c=\"black\")\n",
    "    plt.locator_params(axis='x',nbins=10)\n",
    "    plt.locator_params(axis='y',nbins=10)\n",
    "    plt.xlim([stack[\"Experimental PCE (%)\"].min()-2, stack[\"Experimental PCE (%)\"].max()+2])\n",
    "    plt.ylim([stack[\"Experimental PCE (%)\"].min()-2, stack[\"Experimental PCE (%)\"].max()+2])\n",
    "    plt.savefig(f\"data/model/regression result save folder/jointplot_{use_X}_{model}_{split}_{prop}_{fill}_r{rs}.png\", dpi=300)"
   ]
  },
  {
   "cell_type": "code",
   "execution_count": null,
   "id": "7087f78b-f950-4450-99dc-ca6fce400a63",
   "metadata": {},
   "outputs": [],
   "source": []
  },
  {
   "cell_type": "code",
   "execution_count": null,
   "id": "ef8bb607-0494-44bf-93e1-2a37f375e612",
   "metadata": {},
   "outputs": [],
   "source": []
  },
  {
   "cell_type": "code",
   "execution_count": 33,
   "id": "e1b24058-b992-4710-a0bd-c506635efa79",
   "metadata": {},
   "outputs": [],
   "source": [
    "y = df[\"PCE_ave(%)\"]"
   ]
  },
  {
   "cell_type": "code",
   "execution_count": 106,
   "id": "1fa9f967-008c-41ae-b5f3-5e304280107d",
   "metadata": {},
   "outputs": [
    {
     "data": {
      "image/png": "[encoded data removed]",
      "text/plain": [
       "<Figure size 640x480 with 1 Axes>"
      ]
     },
     "metadata": {},
     "output_type": "display_data"
    }
   ],
   "source": [
    "plt.hist(y,bins = 10, ec=\"black\",label=\"all\", color=\"blue\")\n",
    "plt.hist(y_test, bins=10, ec=\"black\", label=\"test\", color= \"orange\")\n",
    "plt.xlabel(\"PCE (%)\")\n",
    "plt.ylabel(\"Counts\")\n",
    "plt.legend()\n",
    "plt.savefig(\"opvhist.png\", dpi=300)"
   ]
  },
  {
   "cell_type": "code",
   "execution_count": 107,
   "id": "3eae5401-bfa7-445a-87b4-b0253221cfe0",
   "metadata": {},
   "outputs": [
    {
     "data": {
      "text/plain": [
       "count    1295.000000\n",
       "mean        7.899969\n",
       "std         3.810521\n",
       "min         0.010000\n",
       "25%         5.290000\n",
       "50%         8.400000\n",
       "75%        10.655000\n",
       "max        18.220000\n",
       "Name: PCE_ave(%), dtype: float64"
      ]
     },
     "execution_count": 107,
     "metadata": {},
     "output_type": "execute_result"
    }
   ],
   "source": [
    "y.describe()"
   ]
  },
  {
   "cell_type": "code",
   "execution_count": 109,
   "id": "0fd1be62-58d5-436b-9b06-60652d382cf1",
   "metadata": {},
   "outputs": [
    {
     "data": {
      "text/plain": [
       "count    259.000000\n",
       "mean       7.764710\n",
       "std        3.759581\n",
       "min        0.010000\n",
       "25%        4.940000\n",
       "50%        8.350000\n",
       "75%       10.265000\n",
       "max       18.220000\n",
       "Name: PCE_ave(%), dtype: float64"
      ]
     },
     "execution_count": 109,
     "metadata": {},
     "output_type": "execute_result"
    }
   ],
   "source": [
    "y_test.describe()"
   ]
  },
  {
   "cell_type": "code",
   "execution_count": 111,
   "id": "eea8f011-8ae4-43b1-b8eb-4d17f92e0a7d",
   "metadata": {},
   "outputs": [
    {
     "data": {
      "text/html": [
       "<style>#sk-container-id-1 {color: black;background-color: white;}#sk-container-id-1 pre{padding: 0;}#sk-container-id-1 div.sk-toggleable {background-color: white;}#sk-container-id-1 label.sk-toggleable__label {cursor: pointer;display: block;width: 100%;margin-bottom: 0;padding: 0.3em;box-sizing: border-box;text-align: center;}#sk-container-id-1 label.sk-toggleable__label-arrow:before {content: \"▸\";float: left;margin-right: 0.25em;color: #696969;}#sk-container-id-1 label.sk-toggleable__label-arrow:hover:before {color: black;}#sk-container-id-1 div.sk-estimator:hover label.sk-toggleable__label-arrow:before {color: black;}#sk-container-id-1 div.sk-toggleable__content {max-height: 0;max-width: 0;overflow: hidden;text-align: left;background-color: #f0f8ff;}#sk-container-id-1 div.sk-toggleable__content pre {margin: 0.2em;color: black;border-radius: 0.25em;background-color: #f0f8ff;}#sk-container-id-1 input.sk-toggleable__control:checked~div.sk-toggleable__content {max-height: 200px;max-width: 100%;overflow: auto;}#sk-container-id-1 input.sk-toggleable__control:checked~label.sk-toggleable__label-arrow:before {content: \"▾\";}#sk-container-id-1 div.sk-estimator input.sk-toggleable__control:checked~label.sk-toggleable__label {background-color: #d4ebff;}#sk-container-id-1 div.sk-label input.sk-toggleable__control:checked~label.sk-toggleable__label {background-color: #d4ebff;}#sk-container-id-1 input.sk-hidden--visually {border: 0;clip: rect(1px 1px 1px 1px);clip: rect(1px, 1px, 1px, 1px);height: 1px;margin: -1px;overflow: hidden;padding: 0;position: absolute;width: 1px;}#sk-container-id-1 div.sk-estimator {font-family: monospace;background-color: #f0f8ff;border: 1px dotted black;border-radius: 0.25em;box-sizing: border-box;margin-bottom: 0.5em;}#sk-container-id-1 div.sk-estimator:hover {background-color: #d4ebff;}#sk-container-id-1 div.sk-parallel-item::after {content: \"\";width: 100%;border-bottom: 1px solid gray;flex-grow: 1;}#sk-container-id-1 div.sk-label:hover label.sk-toggleable__label {background-color: #d4ebff;}#sk-container-id-1 div.sk-serial::before {content: \"\";position: absolute;border-left: 1px solid gray;box-sizing: border-box;top: 0;bottom: 0;left: 50%;z-index: 0;}#sk-container-id-1 div.sk-serial {display: flex;flex-direction: column;align-items: center;background-color: white;padding-right: 0.2em;padding-left: 0.2em;position: relative;}#sk-container-id-1 div.sk-item {position: relative;z-index: 1;}#sk-container-id-1 div.sk-parallel {display: flex;align-items: stretch;justify-content: center;background-color: white;position: relative;}#sk-container-id-1 div.sk-item::before, #sk-container-id-1 div.sk-parallel-item::before {content: \"\";position: absolute;border-left: 1px solid gray;box-sizing: border-box;top: 0;bottom: 0;left: 50%;z-index: -1;}#sk-container-id-1 div.sk-parallel-item {display: flex;flex-direction: column;z-index: 1;position: relative;background-color: white;}#sk-container-id-1 div.sk-parallel-item:first-child::after {align-self: flex-end;width: 50%;}#sk-container-id-1 div.sk-parallel-item:last-child::after {align-self: flex-start;width: 50%;}#sk-container-id-1 div.sk-parallel-item:only-child::after {width: 0;}#sk-container-id-1 div.sk-dashed-wrapped {border: 1px dashed gray;margin: 0 0.4em 0.5em 0.4em;box-sizing: border-box;padding-bottom: 0.4em;background-color: white;}#sk-container-id-1 div.sk-label label {font-family: monospace;font-weight: bold;display: inline-block;line-height: 1.2em;}#sk-container-id-1 div.sk-label-container {text-align: center;}#sk-container-id-1 div.sk-container {/* jupyter's `normalize.less` sets `[hidden] { display: none; }` but bootstrap.min.css set `[hidden] { display: none !important; }` so we also need the `!important` here to be able to override the default hidden behavior on the sphinx rendered scikit-learn.org. See: https://github.com/scikit-learn/scikit-learn/issues/21755 */display: inline-block !important;position: relative;}#sk-container-id-1 div.sk-text-repr-fallback {display: none;}</style><div id=\"sk-container-id-1\" class=\"sk-top-container\"><div class=\"sk-text-repr-fallback\"><pre>RandomForestRegressor(n_estimators=500)</pre><b>In a Jupyter environment, please rerun this cell to show the HTML representation or trust the notebook. <br />On GitHub, the HTML representation is unable to render, please try loading this page with nbviewer.org.</b></div><div class=\"sk-container\" hidden><div class=\"sk-item\"><div class=\"sk-estimator sk-toggleable\"><input class=\"sk-toggleable__control sk-hidden--visually\" id=\"sk-estimator-id-1\" type=\"checkbox\" checked><label for=\"sk-estimator-id-1\" class=\"sk-toggleable__label sk-toggleable__label-arrow\">RandomForestRegressor</label><div class=\"sk-toggleable__content\"><pre>RandomForestRegressor(n_estimators=500)</pre></div></div></div></div></div>"
      ],
      "text/plain": [
       "RandomForestRegressor(n_estimators=500)"
      ]
     },
     "execution_count": 111,
     "metadata": {},
     "output_type": "execute_result"
    }
   ],
   "source": [
    "rf_estate = RandomForestRegressor(n_estimators = 500)\n",
    "rf_estate.fit(X_Estate,y)"
   ]
  },
  {
   "cell_type": "code",
   "execution_count": 115,
   "id": "336aabae-88e3-4bbe-8aed-93df54fc094b",
   "metadata": {},
   "outputs": [],
   "source": [
    "fti = rf_estate.feature_importances_"
   ]
  },
  {
   "cell_type": "code",
   "execution_count": 118,
   "id": "acf88e1f-dff2-4492-9d22-5eba5112d7bc",
   "metadata": {},
   "outputs": [
    {
     "data": {
      "text/plain": [
       "158"
      ]
     },
     "execution_count": 118,
     "metadata": {},
     "output_type": "execute_result"
    }
   ],
   "source": [
    "len(fti)"
   ]
  },
  {
   "cell_type": "code",
   "execution_count": 122,
   "id": "c155ab72-5f8a-4ddf-8e42-e3efe1f6a610",
   "metadata": {},
   "outputs": [
    {
     "name": "stdout",
     "output_type": "stream",
     "text": [
      "n_Estate 0.6959096836614637\n",
      "p_Estate 0.3040903163385362\n"
     ]
    }
   ],
   "source": [
    "print(\"n_Estate\", sum(fti[0:79]))\n",
    "print(\"p_Estate\", sum(fti[79:158]))"
   ]
  },
  {
   "cell_type": "code",
   "execution_count": 160,
   "id": "2de3b060-85d8-4b6e-b8c3-7a85846c7cbc",
   "metadata": {},
   "outputs": [
    {
     "data": {
      "image/png": "[encoded data removed]",
      "text/plain": [
       "<Figure size 640x480 with 1 Axes>"
      ]
     },
     "metadata": {},
     "output_type": "display_data"
    }
   ],
   "source": [
    "data = fti\n",
    "half_index = len(data) // 2\n",
    "sorted_data = sorted(data, reverse=True)\n",
    "sorted_indices = sorted(range(len(data)), key=lambda x: data[x], reverse=True)\n",
    "\n",
    "colors = ['b'] * half_index + ['orange'] * (len(data) - half_index)\n",
    "sorted_colors = [colors[i] for i in sorted_indices]\n",
    "\n",
    "ranks = range(1, len(sorted_data) + 1)\n",
    "\n",
    "plt.bar(ranks, sorted_data, color=sorted_colors)\n",
    "plt.xlabel('Rank')\n",
    "plt.ylabel('Feature Importance')\n",
    "plt.savefig(\"estate_fti_rank.png\")"
   ]
  },
  {
   "cell_type": "code",
   "execution_count": 140,
   "id": "5e2bcbab-1dd7-44fb-9bc6-761e37b2d793",
   "metadata": {},
   "outputs": [
    {
     "data": {
      "image/png": "[encoded data removed]",
      "text/plain": [
       "<Figure size 640x480 with 1 Axes>"
      ]
     },
     "metadata": {},
     "output_type": "display_data"
    }
   ],
   "source": [
    "data = [3, 3, 0, 4, 5, 1, 8, 2]\n",
    "\n",
    "half_index = len(data) // 2\n",
    "sorted_data = sorted(data, reverse=True)\n",
    "sorted_indices = sorted(range(len(data)), key=lambda x: data[x], reverse=True)\n",
    "\n",
    "colors = ['b'] * half_index + ['orange'] * (len(data) - half_index)\n",
    "sorted_colors = [colors[i] for i in sorted_indices]\n",
    "\n",
    "ranks = range(1, len(sorted_data) + 1)\n",
    "\n",
    "plt.bar(ranks, sorted_data, color=sorted_colors)\n",
    "plt.xlabel('Rank')\n",
    "plt.ylabel('Value')\n",
    "plt.title('Ranking')\n",
    "plt.show()"
   ]
  },
  {
   "cell_type": "code",
   "execution_count": 147,
   "id": "cac657a9-259a-4c47-b60e-bacdafe36a42",
   "metadata": {},
   "outputs": [
    {
     "data": {
      "text/plain": [
       "0.33679809491931595"
      ]
     },
     "execution_count": 147,
     "metadata": {},
     "output_type": "execute_result"
    }
   ],
   "source": [
    "fti[25]"
   ]
  },
  {
   "cell_type": "code",
   "execution_count": 156,
   "id": "2d2fc57b-8aa5-4260-97a8-f10a79e60529",
   "metadata": {},
   "outputs": [],
   "source": [
    "est = X_Estate.T[25]"
   ]
  },
  {
   "cell_type": "code",
   "execution_count": 157,
   "id": "7544d176-43f2-4da5-9912-8db127f29f50",
   "metadata": {},
   "outputs": [
    {
     "data": {
      "text/plain": [
       "<matplotlib.collections.PathCollection at 0x7f21b45ad940>"
      ]
     },
     "execution_count": 157,
     "metadata": {},
     "output_type": "execute_result"
    },
    {
     "data": {
      "image/png": "[encoded data removed]",
      "text/plain": [
       "<Figure size 640x480 with 1 Axes>"
      ]
     },
     "metadata": {},
     "output_type": "display_data"
    }
   ],
   "source": [
    "plt.scatter(est, y)"
   ]
  },
  {
   "cell_type": "code",
   "execution_count": 159,
   "id": "cd9add69-c34f-43f4-9593-83cfe40e4f4c",
   "metadata": {},
   "outputs": [
    {
     "data": {
      "text/plain": [
       "(1295, 167)"
      ]
     },
     "execution_count": 159,
     "metadata": {},
     "output_type": "execute_result"
    }
   ],
   "source": [
    "np.shape(n_MACCSKeys)"
   ]
  },
  {
   "cell_type": "code",
   "execution_count": null,
   "id": "05108059-ce7e-41b6-a3af-22706a9406a4",
   "metadata": {},
   "outputs": [],
   "source": []
  }
 ],
 "metadata": {
  "kernelspec": {
   "display_name": "Python 3 (ipykernel)",
   "language": "python",
   "name": "python3"
  },
  "language_info": {
   "codemirror_mode": {
    "name": "ipython",
    "version": 3
   },
   "file_extension": ".py",
   "mimetype": "text/x-python",
   "name": "python",
   "nbconvert_exporter": "python",
   "pygments_lexer": "ipython3",
   "version": "3.9.0"
  }
 },
 "nbformat": 4,
 "nbformat_minor": 5
}
