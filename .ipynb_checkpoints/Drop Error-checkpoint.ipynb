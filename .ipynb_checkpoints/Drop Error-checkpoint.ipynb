{
 "cells": [
  {
   "cell_type": "code",
   "execution_count": 2,
   "id": "bf600c62-4444-40aa-9030-32b0a70f7f5a",
   "metadata": {},
   "outputs": [],
   "source": [
    "#インポート\n",
    "import numpy as np\n",
    "import pandas as pd\n",
    "from rdkit import Chem\n",
    "from rdkit.Chem import AllChem, PandasTools"
   ]
  },
  {
   "cell_type": "code",
   "execution_count": 3,
   "id": "e3cf3afd-3a12-40c9-b6b9-e63a31d442e5",
   "metadata": {},
   "outputs": [
    {
     "name": "stderr",
     "output_type": "stream",
     "text": [
      "[12:11:55] Explicit valence for atom # 11 N, 4, is greater than permitted\n",
      "[12:11:55] Explicit valence for atom # 11 N, 4, is greater than permitted\n",
      "[12:11:55] Explicit valence for atom # 11 N, 4, is greater than permitted\n",
      "[12:11:55] Explicit valence for atom # 11 N, 4, is greater than permitted\n",
      "[12:11:55] Explicit valence for atom # 11 N, 4, is greater than permitted\n",
      "[12:11:55] Explicit valence for atom # 11 N, 4, is greater than permitted\n",
      "[12:11:55] Explicit valence for atom # 11 N, 4, is greater than permitted\n",
      "[12:11:55] Explicit valence for atom # 11 N, 4, is greater than permitted\n",
      "[12:11:55] Explicit valence for atom # 11 N, 4, is greater than permitted\n",
      "[12:12:03] Explicit valence for atom # 37 N, 4, is greater than permitted\n",
      "[12:12:03] Explicit valence for atom # 53 N, 4, is greater than permitted\n",
      "[12:12:03] Explicit valence for atom # 47 C, 5, is greater than permitted\n",
      "[12:12:03] Explicit valence for atom # 38 C, 5, is greater than permitted\n",
      "[12:12:03] Explicit valence for atom # 11 B, 4, is greater than permitted\n",
      "[12:12:03] Explicit valence for atom # 11 B, 4, is greater than permitted\n",
      "[12:12:03] Explicit valence for atom # 1 B, 4, is greater than permitted\n",
      "[12:12:03] Explicit valence for atom # 1 B, 4, is greater than permitted\n"
     ]
    },
    {
     "name": "stdout",
     "output_type": "stream",
     "text": [
      "(1318, 3)\n",
      "n(SMILES)      0\n",
      "PCE_ave(%)     0\n",
      "ROMol         21\n",
      "dtype: int64\n"
     ]
    },
    {
     "name": "stderr",
     "output_type": "stream",
     "text": [
      "[12:12:04] Explicit valence for atom # 35 B, 4, is greater than permitted\n",
      "[12:12:04] Explicit valence for atom # 35 B, 4, is greater than permitted\n",
      "[12:12:04] Explicit valence for atom # 49 B, 4, is greater than permitted\n",
      "[12:12:04] Explicit valence for atom # 49 B, 4, is greater than permitted\n"
     ]
    }
   ],
   "source": [
    "#　データセットの読み込み\n",
    "df = pd.read_csv(\"data/OPV_database_1318.csv\")\n",
    "df_n = df.loc[:,['n(SMILES)','PCE_ave(%)']] #nに必要なデータのみ抽出\n",
    "#　df_nのSMILES列を参照してMolオブジェクト列をデータフレームに加える\n",
    "PandasTools.AddMoleculeColumnToFrame(df_n,'n(SMILES)')\n",
    "#　Molオブジェクトが作成できたか確認\n",
    "print(df_n.shape)\n",
    "print(df_n.isnull().sum())  \n",
    "\n",
    "### ROMol 21と出力→1318個のうち21個は変換エラー。"
   ]
  },
  {
   "cell_type": "code",
   "execution_count": 4,
   "id": "67c7c079-31c6-4712-84c1-ca815191d000",
   "metadata": {},
   "outputs": [
    {
     "name": "stdout",
     "output_type": "stream",
     "text": [
      "                                             n(SMILES)  PCE_ave(%) ROMol\n",
      "6    ClC1=CC2=C(C=C1Cl)C3=NC4=[N]5C(C6=C4C=C(Cl)C(C...        0.70  None\n",
      "7    ClC1=CC2=C(C=C1Cl)C3=NC4=[N]5C(C6=C4C=C(Cl)C(C...        2.60  None\n",
      "8    ClC1=CC2=C(C=C1Cl)C3=NC4=[N]5C(C6=C4C=C(Cl)C(C...        3.80  None\n",
      "9    ClC1=CC2=C(C=C1Cl)C3=NC4=[N]5C(C6=C4C=C(Cl)C(C...        1.80  None\n",
      "10   ClC1=CC2=C(C=C1Cl)C3=NC4=[N]5C(C6=C4C=C(Cl)C(C...        0.40  None\n",
      "11   ClC1=CC2=C(C=C1Cl)C3=NC4=[N]5C(C6=C4C=C(Cl)C(C...        1.50  None\n",
      "12   ClC1=CC2=C(C=C1Cl)C3=NC4=[N]5C(C6=C4C=C(Cl)C(C...        1.20  None\n",
      "13   ClC1=CC2=C(C=C1Cl)C3=NC4=[N]5C(C6=C4C=C(Cl)C(C...        0.50  None\n",
      "14   ClC1=CC2=C(C=C1Cl)C3=NC4=[N]5C(C6=C4C=C(Cl)C(C...        1.00  None\n",
      "201  C12=C(C3=CC=CC=C3)C=C(C4=CC=CC=C4)N1[Zn]5(N6C(...        1.32  None\n",
      "202  C12=C(C3=CC=CC=C3)C(C#CC4=CC=CC=C4)=C(C5=CC=CC...        3.90  None\n",
      "295  CCCCCCC(C=C1)=CC=C1C2(C3=CC=C(CCCCCC)C=C3)C4=C...        1.43  None\n",
      "296  CCCCCCC(C=C1)=CC=C1C2(C3=CC=C(CCCCCC)C=C3)C4=C...        4.33  None\n",
      "340  CC(C)(C)C(C=C1)=CC=C1O[B@]23N4C5=C6C(C=C(C7=C(...        4.69  None\n",
      "341  CC(C)(C)C(C=C1)=CC=C1O[B@]23N4C5=C6C(C=C(C7=C(...        3.80  None\n",
      "455  Cl[B@]12N3C4=C5C(C=C(C#CC(C=C6C(N(C(CCCCCC)CCC...        4.53  None\n",
      "456  Cl[B@]12N3C4=C5C(C=C(C(C=C6C(N(C(CCCCCC)CCCCCC...        1.78  None\n",
      "821  O=C(N(CCCC)C1=O)C(C1=C2)=CC3=C2C4=NC5=C(C=C(C6...        4.78  None\n",
      "822  O=C(N(CCCC)C1=O)C(C1=C2)=CC3=C2C4=NC5=C(C=C(C6...        2.98  None\n",
      "823  O=C(N(C(CCCCC)CCCCC)C1=O)C(C1=C2)=CC3=C2C4=NC5...        2.51  None\n",
      "824  O=C(N(C(CCCCC)CCCCC)C1=O)C(C1=C2)=CC3=C2C4=NC5...        3.18  None\n"
     ]
    }
   ],
   "source": [
    "#　ROMolが作成できなかったものを確認\n",
    "print(df_n[df_n.ROMol.isnull()])\n",
    "#　欠損行の除去\n",
    "df_n = df_n.dropna()"
   ]
  },
  {
   "cell_type": "code",
   "execution_count": 6,
   "id": "bc254ade-56f8-4ce3-aefe-25cd95e8e153",
   "metadata": {},
   "outputs": [
    {
     "name": "stdout",
     "output_type": "stream",
     "text": [
      "(1318, 2)\n",
      "p(SMILES)    0\n",
      "ROMol        2\n",
      "dtype: int64\n"
     ]
    },
    {
     "name": "stderr",
     "output_type": "stream",
     "text": [
      "[12:14:57] Explicit valence for atom # 14 N, 4, is greater than permitted\n",
      "[12:14:58] Explicit valence for atom # 89 N, 4, is greater than permitted\n"
     ]
    }
   ],
   "source": [
    "## n型でやったことをp型でも同様に。\n",
    "# 同時に処理すると、追加されるMolの列で混線を起こすことが判明(2022/2/8)したため分断！\n",
    "\n",
    "df_p = df.loc[:,['p(SMILES)']]   #PCEのデータは被ると厄介なので今回は除外してdf作成！\n",
    "#　df_pのSMILES列を参照してMolオブジェクト列をデータフレームに加える\n",
    "PandasTools.AddMoleculeColumnToFrame(df_p,'p(SMILES)')\n",
    "#　Molオブジェクトが作成できたか確認\n",
    "print(df_p.shape)\n",
    "print(df_p.isnull().sum())  \n",
    "\n",
    "### ROMol 2と出力→1318個のうち2個は変換エラー。"
   ]
  },
  {
   "cell_type": "code",
   "execution_count": 7,
   "id": "43845817-c67b-4170-8449-2b73f2155ee5",
   "metadata": {},
   "outputs": [
    {
     "name": "stdout",
     "output_type": "stream",
     "text": [
      "                                             n(SMILES)  PCE_ave(%)  \\\n",
      "15   O=C(C1=C(N(CCCCCCCCCC)C(C1C2C3=CC=C(S3)C(/C(C4...        9.17   \n",
      "867  S=C(N(C/1=O)CC)SC1=C\\C(C2=NSN=C23)=CC=C3C4=CC(...        9.07   \n",
      "\n",
      "                                                ROMol  \n",
      "15   <rdkit.Chem.rdchem.Mol object at 0x7fe8c6e125d0>  \n",
      "867  <rdkit.Chem.rdchem.Mol object at 0x7fe8c6e26690>  \n"
     ]
    },
    {
     "name": "stderr",
     "output_type": "stream",
     "text": [
      "/tmp/ipykernel_2122053/3622655470.py:2: UserWarning: Boolean Series key will be reindexed to match DataFrame index.\n",
      "  print(df_n[df_p.ROMol.isnull()])\n"
     ]
    }
   ],
   "source": [
    "#　ROMolが作成できなかったものを確認\n",
    "print(df_n[df_p.ROMol.isnull()])\n",
    "#　欠損行の除去\n",
    "df_p = df_p.dropna()"
   ]
  },
  {
   "cell_type": "code",
   "execution_count": 8,
   "id": "f5edc8f8-9a87-43c0-b642-87bbefa4814e",
   "metadata": {},
   "outputs": [],
   "source": [
    "# n型とp型のフィンガープリントデータを統合。PCEは1列のみに現れる。\n",
    "df_h=pd.concat([df_n,df_p],axis=1)"
   ]
  },
  {
   "cell_type": "code",
   "execution_count": 10,
   "id": "8f65392f-a8ca-4f7f-87a9-69846bb6e72a",
   "metadata": {},
   "outputs": [],
   "source": [
    "# フィンガープリントが計算できなくて埋まっていないデータを削除する\n",
    "df_h_drop = df_h.dropna()"
   ]
  },
  {
   "cell_type": "code",
   "execution_count": 11,
   "id": "d0f96e61-6b4d-43d2-b510-57cc9bf43e42",
   "metadata": {},
   "outputs": [
    {
     "data": {
      "text/html": [
       "<div>\n",
       "<style scoped>\n",
       "    .dataframe tbody tr th:only-of-type {\n",
       "        vertical-align: middle;\n",
       "    }\n",
       "\n",
       "    .dataframe tbody tr th {\n",
       "        vertical-align: top;\n",
       "    }\n",
       "\n",
       "    .dataframe thead th {\n",
       "        text-align: right;\n",
       "    }\n",
       "</style>\n",
       "<table border=\"1\" class=\"dataframe\">\n",
       "  <thead>\n",
       "    <tr style=\"text-align: right;\">\n",
       "      <th></th>\n",
       "      <th>n(SMILES)</th>\n",
       "      <th>PCE_ave(%)</th>\n",
       "      <th>ROMol</th>\n",
       "      <th>p(SMILES)</th>\n",
       "      <th>ROMol</th>\n",
       "    </tr>\n",
       "  </thead>\n",
       "  <tbody>\n",
       "    <tr>\n",
       "      <th>0</th>\n",
       "      <td>O=c(c1=Cc2sc(c3ccc(c4c5cc(c6sc(C=c(c(=O)c7c8cc...</td>\n",
       "      <td>6.86</td>\n",
       "      <td>&lt;rdkit.Chem.rdchem.Mol object at 0x7fe8c6e122d0&gt;</td>\n",
       "      <td>CC1=C(C(F)=C(C(OCC(CC)CCCC)=O)S2)C2=C(C3=CC4=C...</td>\n",
       "      <td>&lt;rdkit.Chem.rdchem.Mol object at 0x7fe8c52f3750&gt;</td>\n",
       "    </tr>\n",
       "    <tr>\n",
       "      <th>1</th>\n",
       "      <td>O=c(c1=Cc2sc(c3ccc(c4c5cc(c6sc(C=c(c(=O)c7c8cc...</td>\n",
       "      <td>2.98</td>\n",
       "      <td>&lt;rdkit.Chem.rdchem.Mol object at 0x7fe8c6e12330&gt;</td>\n",
       "      <td>CC1=C(C(F)=C(C(OCC(CC)CCCC)=O)S2)C2=C(C3=CC4=C...</td>\n",
       "      <td>&lt;rdkit.Chem.rdchem.Mol object at 0x7fe8c52f3bd0&gt;</td>\n",
       "    </tr>\n",
       "    <tr>\n",
       "      <th>2</th>\n",
       "      <td>CCCCCCC(C=C1)=CC=C1C2(C3=CC=C(CCCCCC)C=C3)C4=C...</td>\n",
       "      <td>8.12</td>\n",
       "      <td>&lt;rdkit.Chem.rdchem.Mol object at 0x7fe8c6e12210&gt;</td>\n",
       "      <td>CC1=CC2=C(S1)C(C3=CC=C(CC(CC)CCCC)S3)=C4C(OC(C...</td>\n",
       "      <td>&lt;rdkit.Chem.rdchem.Mol object at 0x7fe8c52f37b0&gt;</td>\n",
       "    </tr>\n",
       "    <tr>\n",
       "      <th>3</th>\n",
       "      <td>O=C(/C(S1)=C/C(C2=NSN=C32)=CC=C3C(S4)=CC5=C4C6...</td>\n",
       "      <td>8.35</td>\n",
       "      <td>&lt;rdkit.Chem.rdchem.Mol object at 0x7fe8c6e124b0&gt;</td>\n",
       "      <td>CC1=CC2=C(S1)C(C3=CC=C(SCCCCCCCC)S3)=C4C(OC(C5...</td>\n",
       "      <td>&lt;rdkit.Chem.rdchem.Mol object at 0x7fe8c52f3b70&gt;</td>\n",
       "    </tr>\n",
       "    <tr>\n",
       "      <th>4</th>\n",
       "      <td>CCCCCCC(C=C1)=CC=C1C2(C3=CC=C(CCCCCC)C=C3)C4=C...</td>\n",
       "      <td>8.33</td>\n",
       "      <td>&lt;rdkit.Chem.rdchem.Mol object at 0x7fe8c6e12510&gt;</td>\n",
       "      <td>O=C(C1=C(C2=C(SC(C3=CC4=C(S3)C(C5=CC(Cl)=C(S5)...</td>\n",
       "      <td>&lt;rdkit.Chem.rdchem.Mol object at 0x7fe8c52f3ab0&gt;</td>\n",
       "    </tr>\n",
       "    <tr>\n",
       "      <th>...</th>\n",
       "      <td>...</td>\n",
       "      <td>...</td>\n",
       "      <td>...</td>\n",
       "      <td>...</td>\n",
       "      <td>...</td>\n",
       "    </tr>\n",
       "    <tr>\n",
       "      <th>1313</th>\n",
       "      <td>O=C(C(C=CC=C1)=C1C/2=C(C#N)\\C#N)C2=C/C(S3)=CC4...</td>\n",
       "      <td>13.09</td>\n",
       "      <td>&lt;rdkit.Chem.rdchem.Mol object at 0x7fe8c6dc1090&gt;</td>\n",
       "      <td>FC1=C(C2=CC=C(C)S2)C3=NC(OCC(CCCCCC)CCCCCCCC)=...</td>\n",
       "      <td>&lt;rdkit.Chem.rdchem.Mol object at 0x7fe8c5311b10&gt;</td>\n",
       "    </tr>\n",
       "    <tr>\n",
       "      <th>1314</th>\n",
       "      <td>CCCCCCC(C=C1)=CC=C1C2(C3=CC=C(CCCCCC)C=C3)C4=C...</td>\n",
       "      <td>2.08</td>\n",
       "      <td>&lt;rdkit.Chem.rdchem.Mol object at 0x7fe8c6dc10f0&gt;</td>\n",
       "      <td>CC(SC1=C2C3=CC(Cl)=C(CC(CC)CCCC)S3)=CC1=C(C4=C...</td>\n",
       "      <td>&lt;rdkit.Chem.rdchem.Mol object at 0x7fe8c5311b70&gt;</td>\n",
       "    </tr>\n",
       "    <tr>\n",
       "      <th>1315</th>\n",
       "      <td>CCCCCCC(C=C1)=CC=C1C2(C3=CC=C(CCCCCC)C=C3)C4=C...</td>\n",
       "      <td>9.78</td>\n",
       "      <td>&lt;rdkit.Chem.rdchem.Mol object at 0x7fe8c6dc1150&gt;</td>\n",
       "      <td>CC(SC1=C2C3=CC(Cl)=C(CC(CC)CCCC)S3)=CC1=C(C4=C...</td>\n",
       "      <td>&lt;rdkit.Chem.rdchem.Mol object at 0x7fe8c5311bd0&gt;</td>\n",
       "    </tr>\n",
       "    <tr>\n",
       "      <th>1316</th>\n",
       "      <td>CCCCCCC(C=C1)=CC=C1C2(C3=CC=C(CCCCCC)C=C3)C4=C...</td>\n",
       "      <td>3.67</td>\n",
       "      <td>&lt;rdkit.Chem.rdchem.Mol object at 0x7fe8c6dc11b0&gt;</td>\n",
       "      <td>CC(SC1=C2C3=CC(Cl)=C(CC(CC)CCCC)S3)=CC1=C(C4=C...</td>\n",
       "      <td>&lt;rdkit.Chem.rdchem.Mol object at 0x7fe8c5311c30&gt;</td>\n",
       "    </tr>\n",
       "    <tr>\n",
       "      <th>1317</th>\n",
       "      <td>CCCCCCC(C=C1)=CC=C1C2(C3=CC=C(CCCCCC)C=C3)C4=C...</td>\n",
       "      <td>2.24</td>\n",
       "      <td>&lt;rdkit.Chem.rdchem.Mol object at 0x7fe8c6dc1210&gt;</td>\n",
       "      <td>CC(SC1=C2C3=CC(Cl)=C(CC(CC)CCCC)S3)=CC1=C(C4=C...</td>\n",
       "      <td>&lt;rdkit.Chem.rdchem.Mol object at 0x7fe8c5311c90&gt;</td>\n",
       "    </tr>\n",
       "  </tbody>\n",
       "</table>\n",
       "<p>1295 rows × 5 columns</p>\n",
       "</div>"
      ],
      "text/plain": [
       "                                              n(SMILES)  PCE_ave(%)  \\\n",
       "0     O=c(c1=Cc2sc(c3ccc(c4c5cc(c6sc(C=c(c(=O)c7c8cc...        6.86   \n",
       "1     O=c(c1=Cc2sc(c3ccc(c4c5cc(c6sc(C=c(c(=O)c7c8cc...        2.98   \n",
       "2     CCCCCCC(C=C1)=CC=C1C2(C3=CC=C(CCCCCC)C=C3)C4=C...        8.12   \n",
       "3     O=C(/C(S1)=C/C(C2=NSN=C32)=CC=C3C(S4)=CC5=C4C6...        8.35   \n",
       "4     CCCCCCC(C=C1)=CC=C1C2(C3=CC=C(CCCCCC)C=C3)C4=C...        8.33   \n",
       "...                                                 ...         ...   \n",
       "1313  O=C(C(C=CC=C1)=C1C/2=C(C#N)\\C#N)C2=C/C(S3)=CC4...       13.09   \n",
       "1314  CCCCCCC(C=C1)=CC=C1C2(C3=CC=C(CCCCCC)C=C3)C4=C...        2.08   \n",
       "1315  CCCCCCC(C=C1)=CC=C1C2(C3=CC=C(CCCCCC)C=C3)C4=C...        9.78   \n",
       "1316  CCCCCCC(C=C1)=CC=C1C2(C3=CC=C(CCCCCC)C=C3)C4=C...        3.67   \n",
       "1317  CCCCCCC(C=C1)=CC=C1C2(C3=CC=C(CCCCCC)C=C3)C4=C...        2.24   \n",
       "\n",
       "                                                 ROMol  \\\n",
       "0     <rdkit.Chem.rdchem.Mol object at 0x7fe8c6e122d0>   \n",
       "1     <rdkit.Chem.rdchem.Mol object at 0x7fe8c6e12330>   \n",
       "2     <rdkit.Chem.rdchem.Mol object at 0x7fe8c6e12210>   \n",
       "3     <rdkit.Chem.rdchem.Mol object at 0x7fe8c6e124b0>   \n",
       "4     <rdkit.Chem.rdchem.Mol object at 0x7fe8c6e12510>   \n",
       "...                                                ...   \n",
       "1313  <rdkit.Chem.rdchem.Mol object at 0x7fe8c6dc1090>   \n",
       "1314  <rdkit.Chem.rdchem.Mol object at 0x7fe8c6dc10f0>   \n",
       "1315  <rdkit.Chem.rdchem.Mol object at 0x7fe8c6dc1150>   \n",
       "1316  <rdkit.Chem.rdchem.Mol object at 0x7fe8c6dc11b0>   \n",
       "1317  <rdkit.Chem.rdchem.Mol object at 0x7fe8c6dc1210>   \n",
       "\n",
       "                                              p(SMILES)  \\\n",
       "0     CC1=C(C(F)=C(C(OCC(CC)CCCC)=O)S2)C2=C(C3=CC4=C...   \n",
       "1     CC1=C(C(F)=C(C(OCC(CC)CCCC)=O)S2)C2=C(C3=CC4=C...   \n",
       "2     CC1=CC2=C(S1)C(C3=CC=C(CC(CC)CCCC)S3)=C4C(OC(C...   \n",
       "3     CC1=CC2=C(S1)C(C3=CC=C(SCCCCCCCC)S3)=C4C(OC(C5...   \n",
       "4     O=C(C1=C(C2=C(SC(C3=CC4=C(S3)C(C5=CC(Cl)=C(S5)...   \n",
       "...                                                 ...   \n",
       "1313  FC1=C(C2=CC=C(C)S2)C3=NC(OCC(CCCCCC)CCCCCCCC)=...   \n",
       "1314  CC(SC1=C2C3=CC(Cl)=C(CC(CC)CCCC)S3)=CC1=C(C4=C...   \n",
       "1315  CC(SC1=C2C3=CC(Cl)=C(CC(CC)CCCC)S3)=CC1=C(C4=C...   \n",
       "1316  CC(SC1=C2C3=CC(Cl)=C(CC(CC)CCCC)S3)=CC1=C(C4=C...   \n",
       "1317  CC(SC1=C2C3=CC(Cl)=C(CC(CC)CCCC)S3)=CC1=C(C4=C...   \n",
       "\n",
       "                                                 ROMol  \n",
       "0     <rdkit.Chem.rdchem.Mol object at 0x7fe8c52f3750>  \n",
       "1     <rdkit.Chem.rdchem.Mol object at 0x7fe8c52f3bd0>  \n",
       "2     <rdkit.Chem.rdchem.Mol object at 0x7fe8c52f37b0>  \n",
       "3     <rdkit.Chem.rdchem.Mol object at 0x7fe8c52f3b70>  \n",
       "4     <rdkit.Chem.rdchem.Mol object at 0x7fe8c52f3ab0>  \n",
       "...                                                ...  \n",
       "1313  <rdkit.Chem.rdchem.Mol object at 0x7fe8c5311b10>  \n",
       "1314  <rdkit.Chem.rdchem.Mol object at 0x7fe8c5311b70>  \n",
       "1315  <rdkit.Chem.rdchem.Mol object at 0x7fe8c5311bd0>  \n",
       "1316  <rdkit.Chem.rdchem.Mol object at 0x7fe8c5311c30>  \n",
       "1317  <rdkit.Chem.rdchem.Mol object at 0x7fe8c5311c90>  \n",
       "\n",
       "[1295 rows x 5 columns]"
      ]
     },
     "execution_count": 11,
     "metadata": {},
     "output_type": "execute_result"
    }
   ],
   "source": [
    "df_h_drop"
   ]
  },
  {
   "cell_type": "code",
   "execution_count": 15,
   "id": "824e42bb-11ba-4269-a09b-8aeed6983d18",
   "metadata": {},
   "outputs": [],
   "source": [
    "df_h_drop.reset_index(inplace = True)"
   ]
  },
  {
   "cell_type": "code",
   "execution_count": 16,
   "id": "19723ace-4748-460d-a4e4-2f677d2f40c3",
   "metadata": {},
   "outputs": [],
   "source": [
    "df_h_drop.to_csv(\"data/OPV_database_1295.csv\",index = False)"
   ]
  },
  {
   "cell_type": "code",
   "execution_count": null,
   "id": "153a502e-c393-4610-b4b6-f89bec8de204",
   "metadata": {},
   "outputs": [],
   "source": []
  }
 ],
 "metadata": {
  "kernelspec": {
   "display_name": "Python 3 (ipykernel)",
   "language": "python",
   "name": "python3"
  },
  "language_info": {
   "codemirror_mode": {
    "name": "ipython",
    "version": 3
   },
   "file_extension": ".py",
   "mimetype": "text/x-python",
   "name": "python",
   "nbconvert_exporter": "python",
   "pygments_lexer": "ipython3",
   "version": "3.9.0"
  }
 },
 "nbformat": 4,
 "nbformat_minor": 5
}
